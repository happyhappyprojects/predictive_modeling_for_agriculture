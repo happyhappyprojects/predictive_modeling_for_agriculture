{
 "cells": [
  {
   "cell_type": "markdown",
   "id": "d3d001b0-2e2f-4b58-8442-99520bad831f",
   "metadata": {},
   "source": [
    "#### Build multi-class classification models to predict the type of `\"crop\"` and identify the single most importance feature for predictive performance.\n",
    "\n",
    "- Find the feature in the dataset that produces the best score for predicting 'crop\".\n",
    "- From this information, create a variable called best_predictive_feature, which\n",
    "should be a dictionary containing the best predictive feature name as a key and the evaluation score (for the metric you chose) as the value."
   ]
  },
  {
   "cell_type": "code",
   "execution_count": 1,
   "id": "d0eb4f16-5a99-460d-a5ba-706b7ef0bbe7",
   "metadata": {
    "executionCancelledAt": null,
    "executionTime": 51,
    "id": "bA5ajAmk7XH6",
    "lastExecutedAt": 1741120376842,
    "lastExecutedByKernel": "767c547f-f1c1-4b8f-a15b-352325e424ce",
    "lastScheduledRunId": null,
    "lastSuccessfullyExecutedCode": "# All required libraries are imported here for you.\nimport pandas as pd\nfrom sklearn.linear_model import LogisticRegression\nfrom sklearn.model_selection import train_test_split\nfrom sklearn import metrics\nfrom sklearn.metrics import accuracy_score\n\n# Load the dataset\ncrops = pd.read_csv(\"soil_measures.csv\")\n\n# Write your code here\nimport seaborn as sns\nimport numpy as np\nfrom sklearn.model_selection import cross_validate"
   },
   "outputs": [
    {
     "name": "stdout",
     "output_type": "stream",
     "text": [
      "    N   P   K        ph  crop\n",
      "0  90  42  43  6.502985  rice\n",
      "1  85  58  41  7.038096  rice\n",
      "2  60  55  44  7.840207  rice\n",
      "3  74  35  40  6.980401  rice\n",
      "4  78  42  42  7.628473  rice\n"
     ]
    }
   ],
   "source": [
    "# All required libraries are imported here for you.\n",
    "import pandas as pd\n",
    "from sklearn.linear_model import LogisticRegression\n",
    "from sklearn.model_selection import train_test_split\n",
    "from sklearn import metrics\n",
    "from sklearn.metrics import accuracy_score\n",
    "import seaborn as sns\n",
    "import numpy as np\n",
    "from sklearn.model_selection import cross_validate, GridSearchCV, cross_val_score, RandomizedSearchCV\n",
    "from sklearn.preprocessing import StandardScaler\n",
    "from sklearn.pipeline import Pipeline, make_pipeline\n",
    "from sklearn.ensemble import GradientBoostingClassifier, RandomForestClassifier\n",
    "from IPython.display import clear_output\n",
    "from sklearn.compose import ColumnTransformer\n",
    "\n",
    "# Configure\n",
    "random_seed = 202503\n",
    "\n",
    "# Define a dict for feature's meanings\n",
    "feature_meaning = {\n",
    "'N': 'Nitrogen content ratio in the soil',\n",
    "'P': 'Phosphorous content ratio in the soil',\n",
    "'K': 'Potassium content ratio in the soil',\n",
    "'pH': 'pH value of the soil', \n",
    "}\n",
    "\n",
    "# Load the dataset\n",
    "crops = pd.read_csv('data/soil_measures.csv')\n",
    "print(crops.head())\n"
   ]
  },
  {
   "cell_type": "code",
   "execution_count": 2,
   "id": "3a3cffc8-529b-481b-a638-dfb2185d40a6",
   "metadata": {
    "executionCancelledAt": null,
    "executionTime": 53,
    "lastExecutedAt": 1741120376896,
    "lastExecutedByKernel": "767c547f-f1c1-4b8f-a15b-352325e424ce",
    "lastScheduledRunId": null,
    "lastSuccessfullyExecutedCode": "print(crops.head())\nprint(crops.info())\nprint(crops.describe())\nprint(crops['crop'].value_counts())",
    "outputsMetadata": {
     "0": {
      "height": 566,
      "type": "stream"
     }
    }
   },
   "outputs": [
    {
     "name": "stdout",
     "output_type": "stream",
     "text": [
      "<class 'pandas.core.frame.DataFrame'>\n",
      "RangeIndex: 2200 entries, 0 to 2199\n",
      "Data columns (total 5 columns):\n",
      " #   Column  Non-Null Count  Dtype  \n",
      "---  ------  --------------  -----  \n",
      " 0   N       2200 non-null   int64  \n",
      " 1   P       2200 non-null   int64  \n",
      " 2   K       2200 non-null   int64  \n",
      " 3   ph      2200 non-null   float64\n",
      " 4   crop    2200 non-null   object \n",
      "dtypes: float64(1), int64(3), object(1)\n",
      "memory usage: 86.1+ KB\n",
      "None\n",
      "                 N            P            K           ph\n",
      "count  2200.000000  2200.000000  2200.000000  2200.000000\n",
      "mean     50.551818    53.362727    48.149091     6.469480\n",
      "std      36.917334    32.985883    50.647931     0.773938\n",
      "min       0.000000     5.000000     5.000000     3.504752\n",
      "25%      21.000000    28.000000    20.000000     5.971693\n",
      "50%      37.000000    51.000000    32.000000     6.425045\n",
      "75%      84.250000    68.000000    49.000000     6.923643\n",
      "max     140.000000   145.000000   205.000000     9.935091\n",
      "crop\n",
      "rice           100\n",
      "maize          100\n",
      "jute           100\n",
      "cotton         100\n",
      "coconut        100\n",
      "papaya         100\n",
      "orange         100\n",
      "apple          100\n",
      "muskmelon      100\n",
      "watermelon     100\n",
      "grapes         100\n",
      "mango          100\n",
      "banana         100\n",
      "pomegranate    100\n",
      "lentil         100\n",
      "blackgram      100\n",
      "mungbean       100\n",
      "mothbeans      100\n",
      "pigeonpeas     100\n",
      "kidneybeans    100\n",
      "chickpea       100\n",
      "coffee         100\n",
      "Name: count, dtype: int64\n"
     ]
    }
   ],
   "source": [
    "# Inspect\n",
    "print(crops.info())\n",
    "print(crops.describe())\n",
    "print(crops['crop'].value_counts())"
   ]
  },
  {
   "cell_type": "code",
   "execution_count": 3,
   "id": "9c0b5c33-4808-4c14-943f-d0bc4f8fdf0b",
   "metadata": {
    "executionCancelledAt": null,
    "executionTime": 54,
    "lastExecutedAt": 1741120376950,
    "lastExecutedByKernel": "767c547f-f1c1-4b8f-a15b-352325e424ce",
    "lastScheduledRunId": null,
    "lastSuccessfullyExecutedCode": "random_seed = 886\nX = crops.drop(columns='crop')\ny = crops['crop']\nX_train, X_test, y_train, y_test = train_test_split(X, y, test_size=.25, random_state=random_seed)"
   },
   "outputs": [],
   "source": [
    "# Split data\n",
    "X = crops.drop(columns='crop')\n",
    "y = crops['crop']\n",
    "X_train, X_test, y_train, y_test = train_test_split(X, y, test_size=.25, random_state=random_seed)\n",
    "\n",
    "# Scale\n",
    "scaler = StandardScaler()\n",
    "all_cols = X.columns.to_list()\n",
    "preprocessing = ColumnTransformer(transformers = [('scaler', scaler, all_cols)], remainder='drop')\n",
    "transformed_array_train = preprocessing.fit_transform(X_train)\n",
    "X_train_processed = pd.DataFrame(transformed_array_train, columns=preprocessing.get_feature_names_out())\n",
    "transformed_array_test = preprocessing.transform(X_test)\n",
    "X_test_processed = pd.DataFrame(transformed_array_test, columns=preprocessing.get_feature_names_out())"
   ]
  },
  {
   "cell_type": "code",
   "execution_count": null,
   "id": "af9d3ea8-d32a-4446-b172-69a3d1235798",
   "metadata": {
    "executionCancelledAt": null,
    "executionTime": 91,
    "lastExecutedAt": 1741120377042,
    "lastExecutedByKernel": "767c547f-f1c1-4b8f-a15b-352325e424ce",
    "lastScheduledRunId": null,
    "lastSuccessfullyExecutedCode": "logreg = LogisticRegression(multi_class='multinomial', solver='lbfgs')\nlogreg.fit(X_train, y_train);\ny_pred = logreg.predict(X_test)\nscore = accuracy_score(y_test, y_pred)\navg_coefs = np.mean(np.abs(logreg.coef_), axis=0)\nbest_coef_idx = list(avg_coefs).index(max(avg_coefs))\nbest_coef = crops.columns[best_coef_idx]"
   },
   "outputs": [
    {
     "name": "stdout",
     "output_type": "stream",
     "text": [
      "{LogisticRegression(max_iter=1000000, multi_class='multinomial',\n",
      "                   random_state=202503): {'best_mean_cv_score': 0.6896969696969697, 'best_model': LogisticRegression(C=801.5006961565414, max_iter=1000000,\n",
      "                   multi_class='multinomial', random_state=202503), 'best_params': {'C': 801.5006961565414}}, RandomForestClassifier(random_state=202503): {'best_mean_cv_score': 0.7812121212121211, 'best_model': RandomForestClassifier(n_estimators=49, random_state=202503), 'best_params': {'n_estimators': 49}}, GradientBoostingClassifier(random_state=202503): {'best_mean_cv_score': 0.7854545454545454, 'best_model': GradientBoostingClassifier(learning_rate=0.027000000000000003, n_estimators=145,\n",
      "                           random_state=202503), 'best_params': {'n_estimators': 145, 'learning_rate': 0.027000000000000003}}}\n"
     ]
    }
   ],
   "source": [
    "# Perform parameter tunning and cross validation to decide the overall best model\n",
    "# Instanciate estimators\n",
    "logreg = LogisticRegression(multi_class='multinomial', solver='lbfgs', max_iter=1000000, random_state=random_seed)\n",
    "rf = RandomForestClassifier(random_state=random_seed)\n",
    "gbc = GradientBoostingClassifier(random_state=random_seed)\n",
    "\n",
    "# Set up parameter grids\n",
    "models = {\n",
    "    logreg: {'C': np.exp(np.linspace(np.log(0.001), np.log(1000), 1000))},\n",
    "    rf: {'n_estimators':[int(n) for n in np.linspace(40, 200, 160)]},\n",
    "    gbc: {'learning_rate':np.linspace(0.001, 1, 1000), \n",
    "            'n_estimators':[int(n) for n in np.linspace(40, 200, 160)]},\n",
    "            }\n",
    "search_res = {}\n",
    "\n",
    "# Iterate over all models and parameter grids, search for the best parameters for each model\n",
    "for model, params in models.items():\n",
    "    search = RandomizedSearchCV(model, params, n_iter=50, return_train_score=False, random_state=random_seed)\n",
    "    search.fit(X_train_processed, y_train)\n",
    "\n",
    "    # If return_train_score=True, search.cv_results_['mean_test_score'] \n",
    "    # gets an array of the mean_cv_scores\n",
    "\n",
    "    search_res[model] = {\n",
    "        # The best mean cv score out of all parameter combinitions\n",
    "        'best_mean_cv_score': search.best_score_,\n",
    "        # The best model fitted with the whole fitted data\n",
    "        'best_model': search.best_estimator_, \n",
    "        'best_params': search.best_params_,\n",
    "                         }\n",
    "print(search_res)"
   ]
  },
  {
   "cell_type": "code",
   "execution_count": 5,
   "id": "8ba3e43c",
   "metadata": {},
   "outputs": [
    {
     "name": "stdout",
     "output_type": "stream",
     "text": [
      "The best model is GradientBoostingClassifier(learning_rate=0.027000000000000003, n_estimators=145,\n",
      "                           random_state=202503)\n"
     ]
    }
   ],
   "source": [
    "# Get the best cv score among the best tunned models\n",
    "best_score = max([x['best_mean_cv_score'] for x in search_res.values()])\n",
    "# Get the final best model according to the best cv score\n",
    "get_model_by_score = lambda dt, v: dt['best_model'] if dt['best_mean_cv_score'] == v else None\n",
    "best_model = [get_model_by_score(dt, best_score) for dt in search_res.values() if get_model_by_score(dt, best_score) is not None][0]\n",
    "print(f'The best model is {best_model}')\n",
    "# Get the test score of the best model\n",
    "test_score = best_model.score(X_test_processed,y_test)"
   ]
  },
  {
   "cell_type": "code",
   "execution_count": 6,
   "id": "7f94f2b1",
   "metadata": {},
   "outputs": [
    {
     "name": "stdout",
     "output_type": "stream",
     "text": [
      "The best predictive feature is \"K, Potassium content ratio in the soil\" with a score of 0.8018\n"
     ]
    }
   ],
   "source": [
    "# Find the best preditive feature\n",
    "importances = best_model.feature_importances_\n",
    "idx_max = list(importances).index(max(importances))\n",
    "best_feature = crops.columns[idx_max]\n",
    "best_predictive_feature = {best_feature:test_score}\n",
    "\n",
    "print(f'The best predictive feature is \"{best_feature}, {feature_meaning[best_feature]}\" \\\n",
    "with a score of {test_score:.4f}')"
   ]
  }
 ],
 "metadata": {
  "colab": {
   "name": "Welcome to DataCamp Workspaces.ipynb",
   "provenance": []
  },
  "kernelspec": {
   "display_name": "credit_card_kernel",
   "language": "python",
   "name": "credit_card_kernel"
  },
  "language_info": {
   "codemirror_mode": {
    "name": "ipython",
    "version": 3
   },
   "file_extension": ".py",
   "mimetype": "text/x-python",
   "name": "python",
   "nbconvert_exporter": "python",
   "pygments_lexer": "ipython3",
   "version": "3.9.5"
  }
 },
 "nbformat": 4,
 "nbformat_minor": 5
}
